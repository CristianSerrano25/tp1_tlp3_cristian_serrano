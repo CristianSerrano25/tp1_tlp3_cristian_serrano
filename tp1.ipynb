{
 "cells": [
  {
   "cell_type": "markdown",
   "metadata": {},
   "source": [
    "# Criterios de evaluación.\n",
    "\n",
    "* Se deben utilizar nombres de variables descriptivos y claros (Utilizar la nomeclatura correspondiente para los nombres de variables).\n",
    "* Comentarios claros y concisos que expliquen el propósito de cada sección del código.\n",
    "* Entrega en tiempo y forma.\n",
    "* Todo el código desarrollado debe ser subido a un repositorio en GitHub (el nombre del repositorio de seguir la siguiente estructura: tp1_tlp3_nombre_apellido).\n",
    "\n",
    "\n",
    "**Aclaración: Para resolver las actividades se debe incertar casillas de codigo entre cada actividad del cuaderno de Jupyter**"
   ]
  },
  {
   "cell_type": "markdown",
   "metadata": {},
   "source": [
    "### 1. **Hola Mundo y Variables**\n",
    "\n",
    "   - **Actividad 1.1**: Deben escribir un programa que imprima \"¡Hola, Mundo!\" en la consola.\n",
    "   - **Actividad 1.2**: Deben crear una variable llamada `nombre` y hacer que el programa imprima un saludo personalizado: `Hola, <nombre>!`"
   ]
  },
  {
   "cell_type": "code",
   "execution_count": null,
   "metadata": {},
   "outputs": [],
   "source": [
    "# Actividad 1.1:\n",
    "print(\"Hola mundo\")\n",
    "nombre = \"Cristian\"\n",
    "# Actividad 1.2:\n",
    "print(\"Hola\", nombre)\n"
   ]
  },
  {
   "cell_type": "markdown",
   "metadata": {},
   "source": [
    "### 2. **Operaciones Matemáticas Básicas**\n",
    "\n",
    "   - **Actividad 1.1**: Crear un programa que pida al usuario dos números y realice las cuatro operaciones matemáticas básicas (suma, resta, multiplicación y división), imprimiendo los resultados.\n",
    "   - **Actividad 1.2**: Hacer que el programa calcule el promedio de los dos números."
   ]
  },
  {
   "cell_type": "code",
   "execution_count": null,
   "metadata": {},
   "outputs": [],
   "source": [
    "# Actividad 1.1:\n",
    "num1 = float(input(\"Ingresar el primer numero: \"))\n",
    "num2 = float(input(\"Ingresar el segundo numero: \"))\n",
    "\n",
    "suma = num1 + num2\n",
    "resta = num1 - num2\n",
    "multiplicacion = num1 * num2\n",
    "if num2 != 0:\n",
    "    division = num1 / num2\n",
    "else:\n",
    "    division = \"No se puede dividir por 0\"\n",
    "\n",
    "print(\"suma: \", suma)\n",
    "print(\"resta: \", resta)\n",
    "print(\"multiplicacion: \", multiplicacion)\n",
    "print(\"division: \", division)\n",
    "\n",
    "# Actividad 1.2: \n",
    "\n",
    "promedio = (num1 + num2) / 2\n",
    "print(\"El promedio es: \", promedio)"
   ]
  },
  {
   "cell_type": "markdown",
   "metadata": {},
   "source": [
    "### 3. **Condicionales (if-else)**\n",
    "\n",
    "   - **Actividad 1.1**: Escribir un programa que pida al usuario su edad y le diga si es mayor de edad (18 años o más).\n",
    "   - **Actividad 1.2**: Agregar un mensaje diferente para diferentes rangos de edad, como por ejemplo, si es un niño, adolescente o adulto."
   ]
  },
  {
   "cell_type": "code",
   "execution_count": null,
   "metadata": {},
   "outputs": [],
   "source": [
    "# Actividad 1.1:\n",
    "edad = int(input(\"Ingresar la edad: \"))\n",
    "if edad >= 18:\n",
    "    print(\"Es mayor de edad\")\n",
    "else:\n",
    "    print(\"Es menor de edad\")\n",
    "\n",
    "# Actividad 1.2:\n",
    "if edad >= 13 and edad <= 18:\n",
    "    print(\"Es un adolescente\")\n",
    "elif edad > 18:\n",
    "    print(\"Es un adulto\")\n",
    "else :\n",
    "    print(\"Es un niño\")"
   ]
  },
  {
   "cell_type": "markdown",
   "metadata": {},
   "source": [
    "### 4. **Ciclos (while, for)**\n",
    "\n",
    "   - **Actividad 1.1**: Escribir un programa que imprima los números del 1 al 10 usando un bucle `for`.\n",
    "   - **Actividad 1.2**: Usar un bucle `while` para imprimir los números del 1 al 10, e imprimir solo aquellos números que sean divisibles por 2."
   ]
  },
  {
   "cell_type": "code",
   "execution_count": null,
   "metadata": {},
   "outputs": [],
   "source": [
    "# Actividad 1.1:\n",
    "for i in range(1, 11):\n",
    "    print(i)"
   ]
  },
  {
   "cell_type": "code",
   "execution_count": null,
   "metadata": {},
   "outputs": [],
   "source": [
    "# Actividad 1.2:\n",
    "numero = 1\n",
    "while numero <= 10:\n",
    "    if numero % 2 == 0:\n",
    "        print(numero)\n",
    "    numero += 1"
   ]
  },
  {
   "cell_type": "markdown",
   "metadata": {},
   "source": [
    "### 5. **Listas y Bucles**\n",
    "\n",
    "   - **Actividad 1.1**: Crear una lista con 5 números y escribir un programa que imprima cada número de la lista usando un bucle `for`.\n",
    "   - **Actividad 1.2**: Usar un bucle para calcular la suma de los números de la lista."
   ]
  },
  {
   "cell_type": "code",
   "execution_count": null,
   "metadata": {},
   "outputs": [],
   "source": [
    "# Actividad 1.1:\n",
    "numeros = [1, 2, 3, 4]\n",
    "for i in numeros:\n",
    "    print(i)\n"
   ]
  },
  {
   "cell_type": "code",
   "execution_count": null,
   "metadata": {},
   "outputs": [],
   "source": [
    "# Actividad 1.2:\n",
    "numeros = [1, 2, 3, 4]\n",
    "suma = 0\n",
    "for i in numeros:\n",
    "    suma += i\n",
    "print(\"La suma de los numeros es: \", suma)"
   ]
  },
  {
   "cell_type": "markdown",
   "metadata": {},
   "source": [
    "### 6. **Funciones**\n",
    "\n",
    "   - **Actividad 1.1**: Escribir una función llamada `saludo` que reciba un nombre como parámetro y devuelva un saludo personalizado.\n",
    "   - **Actividad 1.2**: Crear una función que reciba dos números y devuelva su suma, resta, multiplicación y división."
   ]
  },
  {
   "cell_type": "code",
   "execution_count": null,
   "metadata": {},
   "outputs": [],
   "source": [
    "# Actividad 1.1:\n",
    "nombre = \"Cristian\"\n",
    "def saludo(nombre):\n",
    "    return \"Hola \" + nombre\n",
    "saludo(nombre)\n",
    "    "
   ]
  },
  {
   "cell_type": "code",
   "execution_count": null,
   "metadata": {},
   "outputs": [],
   "source": [
    "#Actividad 1.2:\n",
    "a = 1\n",
    "b = 2\n",
    "def operaciones_basicas(a,b):\n",
    "    return a + b, a - b, a * b, a / b\n",
    "\n",
    "operaciones_basicas(a, b)"
   ]
  },
  {
   "cell_type": "markdown",
   "metadata": {},
   "source": [
    "### 7. **Manejo de cadenas de texto**\n",
    "\n",
    "   - **Actividad 1.1**: Escribir un programa que pida al usuario su nombre y lo imprima en mayúsculas y en minúsculas.\n",
    "   - **Actividad 1.2**: Hacer que el programa imprima la longitud del nombre ingresado (no tener en cuenta los espacios en blanco)."
   ]
  },
  {
   "cell_type": "code",
   "execution_count": null,
   "metadata": {},
   "outputs": [],
   "source": [
    "#Actividad 1.1:\n",
    "nombre_usuario = input(\"Ingresar nombre: \")\n",
    "print(nombre_usuario.upper())\n",
    "print(nombre_usuario.lower())\n",
    "#Actividad 1.2:\n",
    "print(f\"Longitud sin espacios: {len(nombre_usuario.replace(' ', ''))}\")"
   ]
  },
  {
   "cell_type": "markdown",
   "metadata": {},
   "source": [
    "### 8. **Diccionarios**\n",
    "\n",
    "   - **Actividad1.1**: Crear un diccionario que contenga los nombres de tres personas como claves y sus edades como valores. El programa debe imprimir la edad de cada persona.\n",
    "   - **Actividad1.2**: Escribir un programa que pregunte al usuario un nombre, luego su edad y los agregue al diccionario."
   ]
  },
  {
   "cell_type": "code",
   "execution_count": null,
   "metadata": {},
   "outputs": [],
   "source": [
    "#Actividad 1.1:\n",
    "edades = {\"Cristian\": 25, \"Malena\": 24, \"Juan\": 40}\n",
    "for persona, edad in edades.items():\n",
    "    print(f\"{persona} tiene {edad} años.\")\n",
    "#Actividad 1.2:\n",
    "nuevo_nombre = input(\"Ingresa un nombre: \")\n",
    "nueva_edad = int(input(\"Ingresa su edad: \"))\n",
    "edades[nuevo_nombre] = nueva_edad\n",
    "print(edades)"
   ]
  },
  {
   "cell_type": "markdown",
   "metadata": {},
   "source": [
    "### 9. **Números aleatorios**\n",
    "\n",
    "   - **Actividad 1.1**: Escribir un programa que genere 5 números aleatorios entre 1 y 100, lo imprima por consola y diga si es mayor o menor a 50.\n",
    "   - **Actividad 1.2**: Sumar los 5 números generados aleatoriamente y en caso de que el resultado sea mayor a 100, mostrar el valor antes de ser mayor a 100 y cuantos números se sumaron para llegar a dicho valor."
   ]
  },
  {
   "cell_type": "code",
   "execution_count": null,
   "metadata": {},
   "outputs": [],
   "source": [
    "\n",
    "#Actividad 1.1:\n",
    "import random\n",
    "for i in range(5):\n",
    "    numero_aleatorio = random.randint(1, 100)\n",
    "if numero_aleatorio > 50:\n",
    "    print(numero_aleatorio, \"es mayor a 50\")\n",
    "elif numero_aleatorio < 50 :\n",
    "    print(numero_aleatorio, \"es menor a 50\")\n",
    "else:\n",
    "    print(numero_aleatorio, \"es igual a 50\")"
   ]
  },
  {
   "cell_type": "code",
   "execution_count": null,
   "metadata": {},
   "outputs": [],
   "source": [
    "#Actividad 1.2:\n",
    "import random\n",
    "numeros_aleatorios = [random.randint(1, 100) for _ in range(5)] \n",
    "suma = 0\n",
    "contador = 0\n",
    "for i in numeros_aleatorios:  \n",
    "    suma += i\n",
    "    contador += 1\n",
    "    if suma > 100:\n",
    "        print(f\"Valor antes de pasar 100: {suma - i}, cantidad sumada: {contador - 1}\")\n",
    "        break"
   ]
  },
  {
   "cell_type": "markdown",
   "metadata": {},
   "source": [
    "### 10. **Proyecto Final: Calculadora**\n",
    "\n",
    "   - **Actividad 1.1**: Los estudiantes deben crear una calculadora básica que permita realizar operaciones de suma, resta, multiplicación y división con entradas del usuario. El programa debe pedir al usuario que elija la operación y luego introducir 2 números para realizar el cálculo.\n",
    "   - **Actividad 1.2**: Implementar una opción para que el usuario pueda continuar haciendo cálculos o salir del programa."
   ]
  },
  {
   "cell_type": "code",
   "execution_count": null,
   "metadata": {},
   "outputs": [],
   "source": [
    "#Actividad 1.1:\n",
    "operacion = int(input(\"Ingrese la operacion a realizar: 1: suma, 2: resta, 3: multiplicacion, 4: division\"))\n",
    "numero1 = float(input(\"Ingrese el primer numero: \"))\n",
    "numero2 = float(input(\"Ingrese el segundo numero: \"))\n",
    "\n",
    "if operacion == 1:\n",
    "    print(\"La suma de los numeros es: \", numero1 + numero2)\n",
    "if operacion == 2:\n",
    "    print(\"La resta de los numeros es: \", numero1 - numero2)\n",
    "if operacion == 3:\n",
    "    print(\"La multiplicacion de los numeros es: \", numero1 * numero2)\n",
    "if operacion == 4:\n",
    "    if numero2 == 0:\n",
    "        print(\"No se puede dividir por 0\")\n",
    "    else:\n",
    "        print(\"La division de los numeros es: \", numero1 / numero2)\n",
    "if operacion > 4:\n",
    "    print(\"Operacion no valida\")"
   ]
  },
  {
   "cell_type": "code",
   "execution_count": null,
   "metadata": {},
   "outputs": [],
   "source": [
    "#Actividad 1.2:\n",
    "while True:\n",
    "    operacion = int(input(\"Ingrese la operacion a realizar: 1: suma, 2: resta, 3: multiplicacion, 4: division, 5: salir\"))\n",
    "\n",
    "    if operacion == 5:\n",
    "        break\n",
    "\n",
    "    numero1 = float(input(\"Ingrese el primer numero: \"))\n",
    "    numero2 = float(input(\"Ingrese el segundo numero: \"))\n",
    "    \n",
    "    if operacion == 1:\n",
    "        print(\"La suma de los numeros es: \", numero1 + numero2)\n",
    "    if operacion == 2:\n",
    "        print(\"La resta de los numeros es: \", numero1 - numero2)\n",
    "    if operacion == 3:\n",
    "        print(\"La multiplicacion de los numeros es: \", numero1 * numero2)\n",
    "    if operacion == 4:\n",
    "        if numero2 == 0:\n",
    "            print(\"No se puede dividir por 0\")\n",
    "        else: \n",
    "            print(\"La division de los numeros es: \", numero1 / numero2)\n",
    "    if operacion > 4:\n",
    "        print(\"Operacion no valida\")"
   ]
  },
  {
   "cell_type": "markdown",
   "metadata": {},
   "source": [
    "### EXTRA. **Juegos Simples (Adivina el número)**\n",
    "\n",
    "   - **Actividad 1.1**: Escribir un juego donde el programa elija un número aleatorio entre 1 y 100 y el usuario tenga que adivinarlo. El programa debe dar pistas si el número es mayor o menor.\n",
    "   - **Actividad 1.2**: Limitar el número de intentos y mostrar un mensaje de éxito o fracaso al final."
   ]
  },
  {
   "cell_type": "code",
   "execution_count": null,
   "metadata": {},
   "outputs": [],
   "source": [
    "#Actividad 1.1:\n",
    "import random\n",
    "\n",
    "numero_aleatorio = random.randint(1, 100)\n",
    "numero_elegido = -1 \n",
    "\n",
    "while numero_elegido != numero_aleatorio:\n",
    "    numero_elegido = int(input(\"Ingrese un numero: \"))\n",
    "\n",
    "    if numero_elegido > numero_aleatorio:\n",
    "        print(\"El numero es menor\")\n",
    "    elif numero_elegido < numero_aleatorio:\n",
    "        print(\"El numero es mayor\")\n",
    "    else: \n",
    "        print(f\"Felicidades por adivinar el numero era: {numero_aleatorio}\")"
   ]
  },
  {
   "cell_type": "code",
   "execution_count": null,
   "metadata": {},
   "outputs": [],
   "source": [
    "#Actividad 1.2:\n",
    "import random\n",
    "\n",
    "numero_aleatorio = random.randint(1, 100)\n",
    "\n",
    "for numero_intentos in range(5):\n",
    "\n",
    "    numero_elegido = int(input(\"Ingrese un numero: \"))\n",
    "    numero_intentos += 1\n",
    "    if numero_elegido > numero_aleatorio:\n",
    "        print(f\"El numero es menor, te quedan {5 - numero_intentos} intentos\")\n",
    "    else:\n",
    "        print(f\"El numero es mayor, te quedan {5 - numero_intentos} intentos\")\n",
    "    if numero_elegido == numero_aleatorio:\n",
    "        print(f\"Felicidades, adivinaste el numero, el numero era: {numero_aleatorio}\")\n",
    "        break\n",
    "    if numero_intentos == 5:\n",
    "        print(f\"Se acabaron los intentos, el numero era: {numero_aleatorio}\")\n",
    "        break\n"
   ]
  }
 ],
 "metadata": {
  "kernelspec": {
   "display_name": "Python 3",
   "language": "python",
   "name": "python3"
  },
  "language_info": {
   "codemirror_mode": {
    "name": "ipython",
    "version": 3
   },
   "file_extension": ".py",
   "mimetype": "text/x-python",
   "name": "python",
   "nbconvert_exporter": "python",
   "pygments_lexer": "ipython3",
   "version": "3.13.2"
  }
 },
 "nbformat": 4,
 "nbformat_minor": 2
}
